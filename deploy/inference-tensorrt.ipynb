{
 "cells": [
  {
   "cell_type": "markdown",
   "metadata": {},
   "source": [
    "# Inference with Torch"
   ]
  },
  {
   "cell_type": "markdown",
   "metadata": {},
   "source": [
    "## 导包"
   ]
  },
  {
   "cell_type": "code",
   "execution_count": 2,
   "metadata": {},
   "outputs": [],
   "source": [
    "# ---standard----\n",
    "import sys\n",
    "import os \n",
    "import numpy as np\n",
    "from time import time\n",
    "from matplotlib import pyplot as plt\n",
    "from skimage import io,transform\n",
    "from PIL import Image\n",
    "sys.path.append('../')\n",
    "\n",
    "# dl\n",
    "import torch\n",
    "import tensorrt as trt\n",
    "import torch\n",
    "import pycuda.driver as cuda\n",
    "import pycuda.autoinit # 非常重要\n",
    "\n",
    "# mine\n",
    "from unet import UNet\n",
    "\n"
   ]
  },
  {
   "cell_type": "markdown",
   "metadata": {},
   "source": [
    "## 构建TensorRT Engine"
   ]
  },
  {
   "cell_type": "code",
   "execution_count": 3,
   "metadata": {},
   "outputs": [
    {
     "name": "stdout",
     "output_type": "stream",
     "text": [
      "Loading ONNX file from path model/unet.onnx...\n",
      "Beginning ONNX file parsing\n",
      "4272\n",
      "Completed parsing of ONNX file\n",
      "56\n",
      "Building an engine from file model/unet.onnx; this may take a while...\n",
      "16\n",
      "None\n",
      "Completed creating Engine\n"
     ]
    },
    {
     "ename": "AttributeError",
     "evalue": "'NoneType' object has no attribute 'serialize'",
     "output_type": "error",
     "traceback": [
      "\u001b[0;31m---------------------------------------------------------------------------\u001b[0m",
      "\u001b[0;31mAttributeError\u001b[0m                            Traceback (most recent call last)",
      "\u001b[0;32m<ipython-input-3-534ab3da3815>\u001b[0m in \u001b[0;36m<module>\u001b[0;34m\u001b[0m\n\u001b[1;32m     37\u001b[0m             \u001b[0;32mreturn\u001b[0m \u001b[0mengine\u001b[0m\u001b[0;34m\u001b[0m\u001b[0;34m\u001b[0m\u001b[0m\n\u001b[1;32m     38\u001b[0m \u001b[0;34m\u001b[0m\u001b[0m\n\u001b[0;32m---> 39\u001b[0;31m \u001b[0mengine\u001b[0m \u001b[0;34m=\u001b[0m \u001b[0mONNX_build_engine\u001b[0m\u001b[0;34m(\u001b[0m\u001b[0;34m\"model/unet.onnx\"\u001b[0m\u001b[0;34m)\u001b[0m\u001b[0;34m\u001b[0m\u001b[0;34m\u001b[0m\u001b[0m\n\u001b[0m",
      "\u001b[0;32m<ipython-input-3-534ab3da3815>\u001b[0m in \u001b[0;36mONNX_build_engine\u001b[0;34m(onnx_file_path)\u001b[0m\n\u001b[1;32m     34\u001b[0m             \u001b[0;31m# 保存计划文件\u001b[0m\u001b[0;34m\u001b[0m\u001b[0;34m\u001b[0m\u001b[0;34m\u001b[0m\u001b[0m\n\u001b[1;32m     35\u001b[0m             \u001b[0;32mwith\u001b[0m \u001b[0mopen\u001b[0m\u001b[0;34m(\u001b[0m\u001b[0;34m\"model/unet.engine\"\u001b[0m\u001b[0;34m,\u001b[0m \u001b[0;34m\"wb\"\u001b[0m\u001b[0;34m)\u001b[0m \u001b[0;32mas\u001b[0m \u001b[0mf\u001b[0m\u001b[0;34m:\u001b[0m\u001b[0;34m\u001b[0m\u001b[0;34m\u001b[0m\u001b[0m\n\u001b[0;32m---> 36\u001b[0;31m                 \u001b[0mf\u001b[0m\u001b[0;34m.\u001b[0m\u001b[0mwrite\u001b[0m\u001b[0;34m(\u001b[0m\u001b[0mengine\u001b[0m\u001b[0;34m.\u001b[0m\u001b[0mserialize\u001b[0m\u001b[0;34m(\u001b[0m\u001b[0;34m)\u001b[0m\u001b[0;34m)\u001b[0m\u001b[0;34m\u001b[0m\u001b[0;34m\u001b[0m\u001b[0m\n\u001b[0m\u001b[1;32m     37\u001b[0m             \u001b[0;32mreturn\u001b[0m \u001b[0mengine\u001b[0m\u001b[0;34m\u001b[0m\u001b[0;34m\u001b[0m\u001b[0m\n\u001b[1;32m     38\u001b[0m \u001b[0;34m\u001b[0m\u001b[0m\n",
      "\u001b[0;31mAttributeError\u001b[0m: 'NoneType' object has no attribute 'serialize'"
     ]
    }
   ],
   "source": [
    "def ONNX_build_engine(onnx_file_path):\n",
    "        '''\n",
    "        通过加载onnx文件，构建engine\n",
    "        :param onnx_file_path: onnx文件路径\n",
    "        :return: engine\n",
    "        '''\n",
    "        # 打印日志\n",
    "        G_LOGGER = trt.Logger(trt.Logger.VERBOSE)\n",
    "        # create_network() without parameters will make parser.parse() return False\n",
    "        with trt.Builder(G_LOGGER) as builder, builder.create_network() as network, trt.OnnxParser(network, G_LOGGER) as parser:\n",
    "#         with trt.Builder(G_LOGGER) as builder, \\\n",
    "#                 builder.create_network(flags=1 << (int)(trt.NetworkDefinitionCreationFlag.EXPLICIT_BATCH)) as network,\\\n",
    "#                 trt.OnnxParser(network, G_LOGGER) as parser:\n",
    "#             print(builder)\n",
    "#             print(network)\n",
    "#             print(parser)\n",
    "            builder.max_batch_size = 1\n",
    "            builder.max_workspace_size = 1 << 20\n",
    "\n",
    "            print('Loading ONNX file from path {}...'.format(onnx_file_path))\n",
    "            with open(onnx_file_path, 'rb') as model:\n",
    "                print('Beginning ONNX file parsing')\n",
    "                print(sys.getsizeof(model))\n",
    "                parser.parse(model.read())\n",
    "            print('Completed parsing of ONNX file')\n",
    "            print(sys.getsizeof(parser))\n",
    "            \n",
    "            print('Building an engine from file {}; this may take a while...'.format(onnx_file_path))\n",
    "            engine = builder.build_cuda_engine(network)\n",
    "            print(sys.getsizeof(engine))\n",
    "            print(engine)\n",
    "            print(\"Completed creating Engine\")\n",
    "\n",
    "            # 保存计划文件\n",
    "            with open(\"model/unet.engine\", \"wb\") as f:\n",
    "                f.write(engine.serialize())\n",
    "            return engine\n",
    "\n",
    "engine = ONNX_build_engine(\"model/unet.onnx\")"
   ]
  },
  {
   "cell_type": "markdown",
   "metadata": {},
   "source": [
    "## 读取图片"
   ]
  },
  {
   "cell_type": "code",
   "execution_count": null,
   "metadata": {
    "scrolled": true
   },
   "outputs": [],
   "source": [
    "img = Image.open(os.path.join(\"images\", \"input.jpg\"))\n",
    "print(\"img type:\", type(img),\"| img size\", img.size)\n",
    "plt.imshow(img)"
   ]
  },
  {
   "cell_type": "code",
   "execution_count": null,
   "metadata": {
    "scrolled": false
   },
   "outputs": [],
   "source": [
    "# PIL -> ndarray\n",
    "img = np.array(img)\n",
    "print(\"---PIL2ndarray----\")\n",
    "print(\"type img:\",type(img), \"| img shape :\", img.shape, \"| img[0][0]:\", img[0][0], \"| img.dtype:\", img.dtype)\n",
    "\n",
    "\n",
    "# 换dims & 增加dims\n",
    "img = img.transpose((2, 0, 1))\n",
    "print(\"---换dims----\")\n",
    "print(\"type img:\",type(img), \"| img shape :\", img.shape, \"| img[0][0]:\", img[0][0], \"| img.dtype:\", img.dtype)\n",
    "\n",
    "img = np.expand_dims(img, axis=0)\n",
    "print(\"---增加dims----\")\n",
    "print(\"type img:\",type(img), \"| img shape :\", img.shape, \"| img[0][0]:\", img[0][0], \"| img.dtype:\", img.dtype)\n",
    "\n",
    "\n",
    "# uint8 -> float\n",
    "if img.max() > 1:\n",
    "    img = img / 255\n",
    "img = img.astype(np.float32)\n",
    "print(\"---uint8 2 float----\")\n",
    "print(\"type img:\",type(img), \"| img shape :\", img.shape, \"| img[0][0]:\", img[0][0], \"| img.dtype:\", img.dtype)\n",
    "\n",
    "\n",
    "output = np.empty((1, 1, 1280, 1918), dtype=np.float32)"
   ]
  },
  {
   "cell_type": "markdown",
   "metadata": {},
   "source": [
    "## 执行"
   ]
  },
  {
   "cell_type": "code",
   "execution_count": null,
   "metadata": {},
   "outputs": [],
   "source": [
    "context = engine.create_execution_context()\n",
    " \n",
    "# 分配内存\n",
    "d_input = cuda.mem_alloc(1 * img.size * img.dtype.itemsize)\n",
    "d_output = cuda.mem_alloc(1 * output.size * output.dtype.itemsize)\n",
    "bindings = [int(d_input), int(d_output)]\n",
    "\n",
    "# pycuda操作缓冲区\n",
    "stream = cuda.Stream()"
   ]
  },
  {
   "cell_type": "code",
   "execution_count": null,
   "metadata": {},
   "outputs": [],
   "source": [
    "%%time\n",
    "# 将输入数据放入device\n",
    "cuda.memcpy_htod_async(d_input, img, stream)"
   ]
  },
  {
   "cell_type": "code",
   "execution_count": null,
   "metadata": {},
   "outputs": [],
   "source": [
    "%%time\n",
    "# 执行模型\n",
    "context.execute_async(1, bindings, stream.handle, None)"
   ]
  },
  {
   "cell_type": "code",
   "execution_count": null,
   "metadata": {},
   "outputs": [],
   "source": [
    "%%time\n",
    "# 将预测结果从从缓冲区取出\n",
    "cuda.memcpy_dtoh_async(output, d_output, stream)"
   ]
  },
  {
   "cell_type": "code",
   "execution_count": null,
   "metadata": {
    "scrolled": true
   },
   "outputs": [],
   "source": [
    "%%time\n",
    "# 线程同步\n",
    "stream.synchronize()"
   ]
  },
  {
   "cell_type": "markdown",
   "metadata": {},
   "source": [
    "## 展示"
   ]
  },
  {
   "cell_type": "code",
   "execution_count": null,
   "metadata": {
    "scrolled": true
   },
   "outputs": [],
   "source": [
    "print(type(output))\n",
    "print(output.shape)\n",
    "print(output[0][0])\n",
    "print(output.dtype)\n"
   ]
  },
  {
   "cell_type": "markdown",
   "metadata": {},
   "source": [
    "## 显示图片"
   ]
  },
  {
   "cell_type": "code",
   "execution_count": null,
   "metadata": {
    "scrolled": true
   },
   "outputs": [],
   "source": [
    "result_numpy = result.cpu().detach().numpy()\n",
    "print(type(result_numpy))\n",
    "print(result_numpy.shape)\n",
    "print(result_numpy.dtype)"
   ]
  },
  {
   "cell_type": "code",
   "execution_count": null,
   "metadata": {},
   "outputs": [],
   "source": [
    "res = np.array(result_numpy[0][0])\n",
    "print(type(res))\n",
    "print(res.shape)"
   ]
  },
  {
   "cell_type": "code",
   "execution_count": null,
   "metadata": {
    "scrolled": true
   },
   "outputs": [],
   "source": [
    "res"
   ]
  },
  {
   "cell_type": "code",
   "execution_count": null,
   "metadata": {},
   "outputs": [],
   "source": [
    "# res= Image.open(\"1.png\")\n",
    "# mat = np.array(src)\n",
    "res = res.astype(np.uint8)\n",
    "res = Image.fromarray(res, 'P')\n",
    "# dst.save('new.png')\n",
    "print(type(res))"
   ]
  },
  {
   "cell_type": "code",
   "execution_count": null,
   "metadata": {},
   "outputs": [],
   "source": [
    "plt.imshow(res)"
   ]
  },
  {
   "cell_type": "code",
   "execution_count": null,
   "metadata": {},
   "outputs": [],
   "source": []
  }
 ],
 "metadata": {
  "kernelspec": {
   "display_name": "Python 3",
   "language": "python",
   "name": "python3"
  },
  "language_info": {
   "codemirror_mode": {
    "name": "ipython",
    "version": 3
   },
   "file_extension": ".py",
   "mimetype": "text/x-python",
   "name": "python",
   "nbconvert_exporter": "python",
   "pygments_lexer": "ipython3",
   "version": "3.6.9"
  }
 },
 "nbformat": 4,
 "nbformat_minor": 4
}
